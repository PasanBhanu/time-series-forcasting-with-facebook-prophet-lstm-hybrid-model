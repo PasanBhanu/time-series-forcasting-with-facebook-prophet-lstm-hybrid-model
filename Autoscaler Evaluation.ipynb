{
 "cells": [
  {
   "cell_type": "markdown",
   "source": [
    "# Requirement Setup"
   ],
   "metadata": {
    "collapsed": false
   },
   "id": "270b9a5145d708ae"
  },
  {
   "cell_type": "code",
   "execution_count": null,
   "id": "initial_id",
   "metadata": {
    "collapsed": true
   },
   "outputs": [],
   "source": [
    "!pip install prophet\n",
    "!pip install scikit-learn\n",
    "!pip install tensorflow\n",
    "!pip install setuptools"
   ]
  },
  {
   "cell_type": "code",
   "execution_count": null,
   "outputs": [],
   "source": [
    "import numpy as np\n",
    "import pandas as pd\n",
    "from sklearn.preprocessing import MinMaxScaler\n",
    "from prophet.serialize import model_from_json\n",
    "from keras.models import load_model\n",
    "import tensorflow as tf\n",
    "import matplotlib.pyplot as plt\n",
    "import matplotlib.dates as mdates"
   ],
   "metadata": {
    "collapsed": false
   },
   "id": "a044def530b27d95"
  },
  {
   "cell_type": "code",
   "execution_count": null,
   "outputs": [],
   "source": [
    "np.random.seed(42)\n",
    "tf.random.set_seed(42)"
   ],
   "metadata": {
    "collapsed": false
   },
   "id": "a570fdcfcddfdeb5"
  },
  {
   "cell_type": "markdown",
   "source": [
    "# Data Loading\n",
    "\n",
    "Original Dataset"
   ],
   "metadata": {
    "collapsed": false
   },
   "id": "19d09c0e7b93edb2"
  },
  {
   "cell_type": "code",
   "execution_count": null,
   "outputs": [],
   "source": [
    "df_fifa = pd.read_csv('datasets/fifa.csv')\n",
    "df_fifa.columns = ['ds', 'y_us']\n",
    "df_fifa['ds'] = pd.to_datetime(df_fifa['ds'])\n",
    "\n",
    "print(f'FIFA DATASET - Dates: {df_fifa[\"ds\"].count()} | Total: {df_fifa[\"y_us\"].sum()}')\n",
    "df_fifa.head()"
   ],
   "metadata": {
    "collapsed": false
   },
   "id": "b3d6f586795c7dff"
  },
  {
   "cell_type": "markdown",
   "source": [
    "Splitted Dataset"
   ],
   "metadata": {
    "collapsed": false
   },
   "id": "6ab77832b9175e03"
  },
  {
   "cell_type": "code",
   "execution_count": null,
   "outputs": [],
   "source": [
    "start_time = pd.to_datetime(\"1998-07-07 09:51:00\")\n",
    "end_time = pd.to_datetime(\"1998-07-07 16:31:00\")\n",
    "df_fifa = df_fifa[(df_fifa['ds'] >= start_time) & (df_fifa['ds'] <= end_time)]\n",
    "\n",
    "print(f'FIFA DATASET - Dates: {df_fifa[\"ds\"].count()} | Total: {df_fifa[\"y_us\"].sum()}')\n",
    "df_fifa.head()"
   ],
   "metadata": {
    "collapsed": false
   },
   "id": "e9bbb08081aeae48"
  },
  {
   "cell_type": "markdown",
   "source": [
    "Scaling the dataset because Model trained using scaled dataset"
   ],
   "metadata": {
    "collapsed": false
   },
   "id": "2ff8977fe58e46ad"
  },
  {
   "cell_type": "code",
   "execution_count": null,
   "outputs": [],
   "source": [
    "scaler = MinMaxScaler(feature_range=(0, 1))\n",
    "df_fifa['y'] = scaler.fit_transform(df_fifa[['y_us']])"
   ],
   "metadata": {
    "collapsed": false
   },
   "id": "6e99c6216adac9e3"
  },
  {
   "cell_type": "markdown",
   "source": [
    "# Load Trained Models"
   ],
   "metadata": {
    "collapsed": false
   },
   "id": "3b676546e9099056"
  },
  {
   "cell_type": "code",
   "execution_count": null,
   "outputs": [],
   "source": [
    "with open('models/fbprophet-fifa-20240911_180633.json', 'r') as f:\n",
    "    prophet_model = model_from_json(f.read())\n",
    "\n",
    "lstm_model = load_model('models/lstm-fifa-20240911_180633.keras')"
   ],
   "metadata": {
    "collapsed": false
   },
   "id": "39d3d557fffed3ca"
  },
  {
   "cell_type": "markdown",
   "source": [
    "# Prophet Prediction"
   ],
   "metadata": {
    "collapsed": false
   },
   "id": "6cacbfe5a97bde1"
  },
  {
   "cell_type": "code",
   "execution_count": null,
   "outputs": [],
   "source": [
    "forecast_df_fifa = prophet_model.predict(df_fifa[['ds']].copy())"
   ],
   "metadata": {
    "collapsed": false
   },
   "id": "dbdd895dd2a5864b"
  },
  {
   "cell_type": "markdown",
   "source": [
    "# Residual Calculation & Preparation"
   ],
   "metadata": {
    "collapsed": false
   },
   "id": "7cdf4da9283d5420"
  },
  {
   "cell_type": "code",
   "execution_count": null,
   "outputs": [],
   "source": [
    "df_fifa_residual = df_fifa.merge(forecast_df_fifa[['ds', 'yhat']], on='ds', how='left')\n",
    "df_fifa_residual['residual'] = df_fifa_residual['y'] - df_fifa_residual['yhat']"
   ],
   "metadata": {
    "collapsed": false
   },
   "id": "9c829271f071e67d"
  },
  {
   "cell_type": "code",
   "execution_count": null,
   "outputs": [],
   "source": [
    "def create_dataset(dataset, look_back):\n",
    "    X, y = [], []\n",
    "    dataset = np.array(dataset)\n",
    "    \n",
    "    for i in range(len(dataset) - look_back):\n",
    "        a = dataset[i:(i + look_back), 0]\n",
    "        X.append(a)\n",
    "        y.append(dataset[i + look_back, 0])\n",
    "    return np.array(X), np.array(y)"
   ],
   "metadata": {
    "collapsed": false
   },
   "id": "2d97e6153e869039"
  },
  {
   "cell_type": "code",
   "execution_count": null,
   "outputs": [],
   "source": [
    "look_back = 1\n",
    "X_fifa, y_fifa = create_dataset(df_fifa_residual[['residual']], look_back)"
   ],
   "metadata": {
    "collapsed": false
   },
   "id": "8f7f7e777f75884e"
  },
  {
   "cell_type": "markdown",
   "source": [
    "# LSTM Prediction"
   ],
   "metadata": {
    "collapsed": false
   },
   "id": "3ee85d8bd8ed11ff"
  },
  {
   "cell_type": "code",
   "execution_count": null,
   "outputs": [],
   "source": [
    "fifa_predict = lstm_model.predict(X_fifa)"
   ],
   "metadata": {
    "collapsed": false
   },
   "id": "ebf3132de600f214"
  },
  {
   "cell_type": "markdown",
   "source": [
    "# Calculate Final Prediction"
   ],
   "metadata": {
    "collapsed": false
   },
   "id": "d95912499aa7488a"
  },
  {
   "cell_type": "code",
   "execution_count": null,
   "outputs": [],
   "source": [
    "final_df_fifa = df_fifa_residual.copy()\n",
    "\n",
    "final_df_fifa['residual_predict'] = np.nan\n",
    "final_df_fifa['residual_predict'].iloc[0:len(fifa_predict)] = fifa_predict[:, 0]\n",
    "print(f'FIFA DATASET: Total Output: {final_df_fifa.shape[0]} | Loss: {final_df_fifa['residual_predict'].isna().sum()}')\n",
    "\n",
    "final_df_fifa['residual_predict'] = final_df_fifa['residual_predict'].fillna(final_df_fifa['residual'])\n",
    "\n",
    "final_df_fifa['y_predicted'] = final_df_fifa['yhat'] + final_df_fifa['residual_predict']\n",
    "final_df_fifa['y_predicted_us'] = scaler.inverse_transform(final_df_fifa[['y_predicted']])\n",
    "\n",
    "final_df_fifa.head()"
   ],
   "metadata": {
    "collapsed": false
   },
   "id": "a82a938119f20cc9"
  },
  {
   "cell_type": "code",
   "execution_count": null,
   "outputs": [],
   "source": [
    "plt.figure(figsize=(14, 5))\n",
    "plt.plot(df_fifa['ds'], df_fifa['y_us'], label='Actual', color='#1f77b4')\n",
    "plt.plot(final_df_fifa['ds'], final_df_fifa['y_predicted_us'], label='Prediction', color='red')\n",
    "plt.title('World Cup 98 Original and Predicted Datasets')\n",
    "plt.xlabel('Time')\n",
    "plt.ylabel('Workload')\n",
    "plt.grid(True)\n",
    "plt.legend()\n",
    "plt.show()"
   ],
   "metadata": {
    "collapsed": false
   },
   "id": "248a23c05b0fb1c4"
  },
  {
   "cell_type": "markdown",
   "source": [
    "# Pod Calculation"
   ],
   "metadata": {
    "collapsed": false
   },
   "id": "11af20473e0bffa9"
  },
  {
   "cell_type": "markdown",
   "source": [
    "Pods from Prediction Based Autoscaler\n",
    "\n",
    "Constants\n",
    "- Workload Per Pod: 100\n",
    "- RRS: 0.1\n",
    "- Minimum Pods: 1"
   ],
   "metadata": {
    "collapsed": false
   },
   "id": "154863f508199cc0"
  },
  {
   "cell_type": "code",
   "execution_count": null,
   "outputs": [],
   "source": [
    "workload_per_pod = 100\n",
    "rrs = 0.6\n",
    "pods_min = 1"
   ],
   "metadata": {
    "collapsed": false
   },
   "id": "4e496523f6435f0e"
  },
  {
   "cell_type": "code",
   "execution_count": null,
   "outputs": [],
   "source": [
    "pod_df_fifa = final_df_fifa.copy()"
   ],
   "metadata": {
    "collapsed": false
   },
   "id": "9139cb68774a95ab"
  },
  {
   "cell_type": "code",
   "execution_count": null,
   "outputs": [],
   "source": [
    "pod_df_fifa['pods_t'] = 0\n",
    "pod_df_fifa['pods_t+1'] = 0\n",
    "\n",
    "pod_df_fifa.loc[0, 'pods_t'] = 100\n",
    "\n",
    "for i in range(1, len(pod_df_fifa)):\n",
    "    workload_t1 = pod_df_fifa.loc[i, 'y_predicted_us']\n",
    "    \n",
    "    pods_t = pod_df_fifa.loc[i - 1, 'pods_t']\n",
    "    pods_t1 = int(workload_t1 / workload_per_pod) + (1 if workload_t1 % workload_per_pod != 0 else 0)\n",
    "    \n",
    "    if pods_t1 > pods_t:\n",
    "        # Scale Up\n",
    "        pod_df_fifa.loc[i, 'pods_t'] = pods_t1\n",
    "    elif pods_t1 < pods_t:\n",
    "        # Scale Down\n",
    "        pods_surplus = (pods_t - pods_t1) * rrs\n",
    "        pods_t1 = max(pods_min, pods_t - int(pods_surplus))\n",
    "        pod_df_fifa.loc[i, 'pods_t'] = pods_t1\n",
    "    else:\n",
    "        pod_df_fifa.loc[i, 'pods_t'] = pods_t\n",
    "    \n",
    "    pod_df_fifa.loc[i, 'pods_t+1'] = pods_t1"
   ],
   "metadata": {
    "collapsed": false
   },
   "id": "44462d5d7d651e88"
  },
  {
   "cell_type": "markdown",
   "source": [
    "Pods from Horizontal Pod Autoscaler\n",
    "\n",
    "Constants\n",
    "- CPU Threshold: 0.7\n",
    "- Scale Down Delay: 5 min"
   ],
   "metadata": {
    "collapsed": false
   },
   "id": "50c8abd4bb9ede50"
  },
  {
   "cell_type": "code",
   "execution_count": null,
   "outputs": [],
   "source": [
    "cpu_threshold = 0.7\n",
    "scale_down_delay = 5"
   ],
   "metadata": {
    "collapsed": false
   },
   "id": "22c829dc986f3c68"
  },
  {
   "cell_type": "code",
   "execution_count": null,
   "outputs": [],
   "source": [
    "pod_df_fifa['hpa_pods'] = 0\n",
    "last_scale_down_time = None\n",
    "\n",
    "pod_df_fifa.loc[0, 'hpa_pods'] = 100\n",
    "\n",
    "for i in range(1, len(pod_df_fifa)):\n",
    "    workload = pod_df_fifa.loc[i, 'y_us']\n",
    "    pods_t = pod_df_fifa.loc[i - 1, 'hpa_pods']\n",
    "    \n",
    "    required_pods = int(workload / (workload_per_pod * cpu_threshold)) + (1 if workload % (workload_per_pod * cpu_threshold) != 0 else 0)\n",
    "    \n",
    "    if required_pods > pods_t:\n",
    "        # Scale Up\n",
    "        pod_df_fifa.loc[i, 'hpa_pods'] = required_pods\n",
    "        last_scale_down_time = None\n",
    "    elif required_pods < pods_t:\n",
    "        # Scale Down\n",
    "        if last_scale_down_time is None:\n",
    "            # Scale Down Timer Start - No Scale Down\n",
    "            last_scale_down_time = pod_df_fifa.loc[i, 'ds']\n",
    "            pod_df_fifa.loc[i, 'hpa_pods'] = pods_t\n",
    "        elif (pod_df_fifa.loc[i, 'ds'] - last_scale_down_time).total_seconds() / 60 >= scale_down_delay:\n",
    "            # Scale Down Timer OK - Scale Down\n",
    "            pod_df_fifa.loc[i, 'hpa_pods'] = required_pods\n",
    "            last_scale_down_time = pod_df_fifa.loc[i, 'ds']\n",
    "        else:\n",
    "            # During Scale Down Delay - No Scale Down\n",
    "            pod_df_fifa.loc[i, 'hpa_pods'] = pods_t\n",
    "    else:\n",
    "        pod_df_fifa.loc[i, 'hpa_pods'] = pods_t"
   ],
   "metadata": {
    "collapsed": false
   },
   "id": "eabfb555784204f7"
  },
  {
   "cell_type": "code",
   "execution_count": null,
   "outputs": [],
   "source": [
    "pod_df_fifa.head()"
   ],
   "metadata": {
    "collapsed": false
   },
   "id": "23876ef88ce1eb84"
  },
  {
   "cell_type": "code",
   "execution_count": null,
   "outputs": [],
   "source": [
    "plt.figure(figsize=(14, 5))\n",
    "plt.plot(pod_df_fifa['ds'], pod_df_fifa['pods_t'], label='PBA Pods Count', color='red')\n",
    "plt.plot(pod_df_fifa['ds'], pod_df_fifa['hpa_pods'], label='HPA Pods Count', color='green')\n",
    "plt.title('Pod Count Over Time - PBA vs HPA ')\n",
    "plt.xlabel('Time')\n",
    "plt.ylabel('Number of Pods')\n",
    "plt.grid(True)\n",
    "plt.legend()\n",
    "\n",
    "plt.gca().xaxis.set_major_formatter(mdates.DateFormatter('%Y-%m-%d %H:%M:%S'))\n",
    "plt.gcf().autofmt_xdate() \n",
    "\n",
    "plt.show()"
   ],
   "metadata": {
    "collapsed": false
   },
   "id": "deea9d3b0ab633cf"
  },
  {
   "cell_type": "code",
   "execution_count": null,
   "outputs": [],
   "source": [
    "fig, ax1 = plt.subplots(figsize=(14, 5))\n",
    "\n",
    "line1 = ax1.plot(pod_df_fifa['ds'], pod_df_fifa['pods_t'], label='PBA Pods Count', color='blue')\n",
    "ax1.set_title('Pod Count and Workload Over Time')\n",
    "ax1.set_xlabel('Time')\n",
    "ax1.set_ylabel('Number of Pods')\n",
    "ax1.grid(True)\n",
    "\n",
    "ax1.xaxis.set_major_formatter(mdates.DateFormatter('%Y-%m-%d %H:%M:%S'))\n",
    "ax1.xaxis.set_major_locator(mdates.HourLocator(interval=1))\n",
    "fig.autofmt_xdate()\n",
    "\n",
    "ax2 = ax1.twinx()\n",
    "line2 = ax2.plot(pod_df_fifa['ds'], pod_df_fifa['hpa_pods'], label='HPA Pods Count', color='green')\n",
    "ax2.get_yaxis().set_visible(False)\n",
    "\n",
    "ax3 = ax1.twinx()\n",
    "line3 = ax3.plot(pod_df_fifa['ds'], pod_df_fifa['y_us'], label='Workload', color='red')\n",
    "\n",
    "lines = line1 + line2 + line3\n",
    "labels = [l.get_label() for l in lines]\n",
    "ax3.legend(lines, labels, loc=0)\n",
    "\n",
    "plt.show()"
   ],
   "metadata": {
    "collapsed": false
   },
   "id": "836610ec0b49c74b"
  },
  {
   "cell_type": "markdown",
   "source": [
    "# Evaluation Metrics"
   ],
   "metadata": {
    "collapsed": false
   },
   "id": "f8a46c56b92cb9f1"
  },
  {
   "cell_type": "code",
   "execution_count": null,
   "outputs": [],
   "source": [
    "df_fifa_analysis = pod_df_fifa.copy()\n",
    "\n",
    "df_fifa_analysis['r_t'] = df_fifa_analysis['y_us']\n",
    "df_fifa_analysis['p_t'] = df_fifa_analysis['pods_t'] * workload_per_pod\n",
    "df_fifa_analysis['under_provisioning'] = np.maximum(df_fifa_analysis['r_t'] - df_fifa_analysis['p_t'], 0)\n",
    "df_fifa_analysis['over_provisioning'] = np.maximum(df_fifa_analysis['p_t'] - df_fifa_analysis['r_t'], 0)\n",
    "df_fifa_analysis['sgn_under'] = np.where(df_fifa_analysis['r_t'] > df_fifa_analysis['p_t'], 1, 0)\n",
    "df_fifa_analysis['sgn_over'] = np.where(df_fifa_analysis['p_t'] > df_fifa_analysis['r_t'], 1, 0)\n",
    "    \n",
    "# Data Range Time in Minutes\n",
    "total_time = 400\n",
    "\n",
    "Θ_U = (100 / total_time) * (df_fifa_analysis['under_provisioning'] / df_fifa_analysis['r_t']).sum()\n",
    "Θ_O = (100 / total_time) * (df_fifa_analysis['over_provisioning'] / df_fifa_analysis['r_t']).sum()\n",
    "\n",
    "T_U = (100 / total_time) * df_fifa_analysis['sgn_under'].sum()\n",
    "T_O = (100 / total_time) * df_fifa_analysis['sgn_over'].sum()\n",
    "\n",
    "print(f'Θ_O: {Θ_O}')\n",
    "print(f'T_O: {T_O}')\n",
    "print(f'Θ_U: {Θ_U}')\n",
    "print(f'T_U: {T_U}')\n",
    "\n",
    "ε_n = ((0.189 * 593.755 * 2.2 * 97.6) / (Θ_U * Θ_O * T_U * T_O)) ** 0.25\n",
    "\n",
    "print(f'Elastic Speed Up: {ε_n}')"
   ],
   "metadata": {
    "collapsed": false
   },
   "id": "1ecb09b09af540b5"
  },
  {
   "cell_type": "markdown",
   "source": [],
   "metadata": {
    "collapsed": false
   },
   "id": "21c0559857762c11"
  }
 ],
 "metadata": {
  "kernelspec": {
   "display_name": "Python 3",
   "language": "python",
   "name": "python3"
  },
  "language_info": {
   "codemirror_mode": {
    "name": "ipython",
    "version": 2
   },
   "file_extension": ".py",
   "mimetype": "text/x-python",
   "name": "python",
   "nbconvert_exporter": "python",
   "pygments_lexer": "ipython2",
   "version": "2.7.6"
  }
 },
 "nbformat": 4,
 "nbformat_minor": 5
}
