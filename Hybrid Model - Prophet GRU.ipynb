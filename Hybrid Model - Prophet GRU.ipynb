{
 "cells": [
  {
   "cell_type": "markdown",
   "metadata": {
    "id": "4WZBQ2XG6xXO"
   },
   "source": [
    "# Requirement Setup"
   ]
  },
  {
   "cell_type": "code",
   "execution_count": null,
   "metadata": {
    "colab": {
     "base_uri": "https://localhost:8080/"
    },
    "id": "hV6cG1vAyUVS",
    "outputId": "d3ba97dd-3fd0-4936-85cc-36acebacda5c",
    "collapsed": true
   },
   "outputs": [],
   "source": [
    "!pip install prophet\n",
    "!pip install scikit-learn\n",
    "!pip install tensorflow\n",
    "!pip install setuptools"
   ]
  },
  {
   "cell_type": "code",
   "execution_count": null,
   "metadata": {
    "id": "RBuh5PBwydD2"
   },
   "outputs": [],
   "source": [
    "import pandas as pd\n",
    "from prophet import Prophet\n",
    "from sklearn.metrics import mean_squared_error, mean_absolute_error, r2_score\n",
    "from sklearn.preprocessing import MinMaxScaler\n",
    "from sklearn.model_selection import train_test_split\n",
    "from tensorflow.keras.models import Sequential\n",
    "from tensorflow.keras.layers import LSTM, Dense, GRU\n",
    "import numpy as np\n",
    "import time\n",
    "import matplotlib.pyplot as plt"
   ]
  },
  {
   "cell_type": "markdown",
   "metadata": {
    "id": "0E2WSqRE61sa"
   },
   "source": [
    "# Data Loading"
   ]
  },
  {
   "cell_type": "code",
   "execution_count": null,
   "metadata": {
    "id": "wd0I-Zwmyne5"
   },
   "outputs": [],
   "source": [
    "df_nasa = pd.read_csv('datasets/nasa.csv')\n",
    "df_nasa.columns = ['ds', 'y']\n",
    "df_nasa['ds'] = pd.to_datetime(df_nasa['ds'])\n",
    "\n",
    "print(f'NASA DATASET - Dates: {df_nasa[\"ds\"].count()} | Total: {df_nasa[\"y\"].sum()}')\n",
    "df_nasa.head()"
   ]
  },
  {
   "cell_type": "code",
   "execution_count": null,
   "metadata": {
    "id": "ePqY_uHw0gTk"
   },
   "outputs": [],
   "source": [
    "df_fifa = pd.read_csv('datasets/fifa.csv')\n",
    "df_fifa.columns = ['ds', 'y']\n",
    "df_fifa['ds'] = pd.to_datetime(df_fifa['ds'])\n",
    "\n",
    "print(f'FIFA DATASET - Dates: {df_fifa[\"ds\"].count()} | Total: {df_fifa[\"y\"].sum()}')\n",
    "df_fifa.head()"
   ]
  },
  {
   "cell_type": "code",
   "execution_count": null,
   "metadata": {
    "id": "RE16_7lC0s-d"
   },
   "outputs": [],
   "source": [
    "plt.figure(figsize=(14, 5))\n",
    "plt.plot(df_nasa['ds'], df_nasa['y'])\n",
    "plt.title('NASA Original Dataset Distribution')\n",
    "plt.xlabel('Time')\n",
    "plt.ylabel('Count')\n",
    "plt.grid(True)\n",
    "plt.show()"
   ]
  },
  {
   "cell_type": "code",
   "execution_count": null,
   "metadata": {
    "id": "C2LftM5v0zzP"
   },
   "outputs": [],
   "source": [
    "plt.figure(figsize=(14, 5))\n",
    "plt.plot(df_fifa['ds'], df_fifa['y'])\n",
    "plt.title('FIFA Original Dataset Distribution')\n",
    "plt.xlabel('Time')\n",
    "plt.ylabel('Count')\n",
    "plt.grid(True)\n",
    "plt.show()"
   ]
  },
  {
   "cell_type": "markdown",
   "metadata": {
    "id": "ciQYvpQq65da"
   },
   "source": [
    "# Data Splitting & Preprocessing\n",
    "\n",
    "1.   Split datasets as 70% training, 30% testing\n",
    "2.   Fill for empty data\n",
    "3.   Drop duplicate data\n",
    "\n",
    "\n",
    "\n"
   ]
  },
  {
   "cell_type": "code",
   "execution_count": null,
   "metadata": {
    "id": "yuvvgpVk07Iw"
   },
   "outputs": [],
   "source": [
    "train_df_nasa, test_df_nasa = train_test_split(df_nasa, test_size=0.3, random_state=42, shuffle=False)\n",
    "train_df_fifa, test_df_fifa = train_test_split(df_fifa, test_size=0.3, random_state=42, shuffle=False)\n",
    "\n",
    "print(f'NASA DATASET: Train Set: {train_df_nasa.shape} | Test Set: {test_df_nasa.shape}')\n",
    "print(f'FIFA DATASET: Train Set: {train_df_fifa.shape} | Test Set: {test_df_fifa.shape}')"
   ]
  },
  {
   "cell_type": "code",
   "execution_count": null,
   "metadata": {
    "id": "T9HQOl3C2NTj"
   },
   "outputs": [],
   "source": [
    "train_df_nasa['y'].fillna(method='ffill', inplace=True)\n",
    "train_df_nasa.drop_duplicates(subset='ds', inplace=True)\n",
    "\n",
    "train_df_fifa['y'].fillna(method='ffill', inplace=True)\n",
    "train_df_fifa.drop_duplicates(subset='ds', inplace=True)\n",
    "\n",
    "print(f'NASA DATASET: Train Set: {train_df_nasa.shape} | Test Set: {test_df_nasa.shape}')\n",
    "print(f'FIFA DATASET: Train Set: {train_df_fifa.shape} | Test Set: {test_df_fifa.shape}')"
   ]
  },
  {
   "cell_type": "code",
   "execution_count": null,
   "metadata": {
    "id": "rpqITHWi6DBP"
   },
   "outputs": [],
   "source": [
    "plt.figure(figsize=(14, 5))\n",
    "plt.plot(train_df_nasa['ds'], train_df_nasa['y'], label='Train', color='green')\n",
    "plt.plot(test_df_nasa['ds'], test_df_nasa['y'], label='Test', color='red')\n",
    "plt.title('NASA Train and Test Datasets')\n",
    "plt.xlabel('Time')\n",
    "plt.ylabel('Count')\n",
    "plt.grid(True)\n",
    "plt.legend()\n",
    "plt.show()"
   ]
  },
  {
   "cell_type": "code",
   "execution_count": null,
   "metadata": {
    "id": "g7XQNIGB6SOo"
   },
   "outputs": [],
   "source": [
    "plt.figure(figsize=(14, 5))\n",
    "plt.plot(train_df_fifa['ds'], train_df_fifa['y'], label='Train', color='green')\n",
    "plt.plot(test_df_fifa['ds'], test_df_fifa['y'], label='Test', color='red')\n",
    "plt.title('FIFA Train and Test Datasets')\n",
    "plt.xlabel('Time')\n",
    "plt.ylabel('Count')\n",
    "plt.grid(True)\n",
    "plt.legend()\n",
    "plt.show()"
   ]
  },
  {
   "cell_type": "markdown",
   "metadata": {
    "id": "T1QbNBF96sus"
   },
   "source": [
    "# Model Training - NASA"
   ]
  },
  {
   "cell_type": "markdown",
   "metadata": {
    "id": "lZahbTKJ7WG9"
   },
   "source": [
    "## Seasonality Capturing with Prophet"
   ]
  },
  {
   "cell_type": "markdown",
   "metadata": {
    "id": "r1Hbzepj8sei"
   },
   "source": [
    "### Train Model"
   ]
  },
  {
   "cell_type": "code",
   "execution_count": null,
   "metadata": {
    "id": "FgaZeRLG7ZqP"
   },
   "outputs": [],
   "source": [
    "model = Prophet(\n",
    "    growth='linear',\n",
    "    changepoint_prior_scale=5.1,\n",
    "    yearly_seasonality=False,\n",
    "    weekly_seasonality=20,\n",
    "    daily_seasonality=50,\n",
    "    seasonality_prior_scale=30\n",
    ")\n",
    "model.fit(train_df_nasa)"
   ]
  },
  {
   "cell_type": "markdown",
   "metadata": {
    "id": "ArDt4CbC7cRZ"
   },
   "source": [
    "### Predict Dataset"
   ]
  },
  {
   "cell_type": "code",
   "execution_count": null,
   "metadata": {
    "id": "IvlKYc_f7biz"
   },
   "outputs": [],
   "source": [
    "forecast_train_df_nasa = model.predict(train_df_nasa[['ds']].copy())\n",
    "\n",
    "start_time = time.time()\n",
    "forecast_test_df_nasa = model.predict(test_df_nasa[['ds']].copy())\n",
    "end_time = time.time()"
   ]
  },
  {
   "cell_type": "code",
   "execution_count": null,
   "metadata": {
    "id": "a8APZi6q8z5q"
   },
   "outputs": [],
   "source": [
    "forecast_test_df_nasa_analysis = test_df_nasa.copy()\n",
    "forecast_test_df_nasa_analysis = forecast_test_df_nasa_analysis.merge(forecast_test_df_nasa[['ds', 'yhat']], on='ds', how='left')\n",
    "\n",
    "mse = mean_squared_error(forecast_test_df_nasa_analysis['y'], forecast_test_df_nasa_analysis['yhat'])\n",
    "rmse = np.sqrt(mse)\n",
    "mae = mean_absolute_error(forecast_test_df_nasa_analysis['y'], forecast_test_df_nasa_analysis['yhat'])\n",
    "r2 = r2_score(forecast_test_df_nasa_analysis['y'], forecast_test_df_nasa_analysis['yhat'])\n",
    "\n",
    "print('=== Facebook Prophet Model Metrics ===')\n",
    "print(f'MSE: {mse}')\n",
    "print(f'RMSE: {rmse}')\n",
    "print(f'MAE: {mae}')\n",
    "print(f'R²: {r2}')\n",
    "print(f'Prediction Time: {(end_time - start_time) * 1000}ms')"
   ]
  },
  {
   "cell_type": "code",
   "execution_count": null,
   "outputs": [],
   "source": [
    "plt.figure(figsize=(14, 5))\n",
    "plt.plot(train_df_nasa['ds'], train_df_nasa['y'], label='Train', color='green')\n",
    "plt.plot(test_df_nasa['ds'], test_df_nasa['y'], label='Test', color='red')\n",
    "plt.plot(forecast_test_df_nasa['ds'], forecast_test_df_nasa['yhat'], label='Prediction', color='blue')\n",
    "plt.title('NASA Facebook Prophet Predictions')\n",
    "plt.xlabel('Time')\n",
    "plt.ylabel('Count')\n",
    "plt.grid(True)\n",
    "plt.legend()\n",
    "plt.show()"
   ],
   "metadata": {
    "collapsed": false
   }
  },
  {
   "cell_type": "code",
   "execution_count": null,
   "outputs": [],
   "source": [
    "model.plot_components(forecast_test_df_nasa);"
   ],
   "metadata": {
    "collapsed": false
   }
  },
  {
   "cell_type": "markdown",
   "source": [
    "## Merge Forecasted Data"
   ],
   "metadata": {
    "id": "TJQmYeuYPFuE"
   }
  },
  {
   "cell_type": "code",
   "source": [
    "forecast_df_nasa = pd.concat([forecast_train_df_nasa, forecast_test_df_nasa])"
   ],
   "metadata": {
    "id": "PPXE_P9_QFRL"
   },
   "execution_count": null,
   "outputs": []
  },
  {
   "cell_type": "markdown",
   "metadata": {
    "id": "gEEsa_GI9NDn"
   },
   "source": [
    "## Residual Analysis"
   ]
  },
  {
   "cell_type": "markdown",
   "metadata": {
    "id": "VIhqGP759acB"
   },
   "source": [
    "### Calculate Residuals"
   ]
  },
  {
   "cell_type": "code",
   "execution_count": null,
   "metadata": {
    "id": "QnpZtWihlSSV"
   },
   "outputs": [],
   "source": [
    "df_nasa_residual = df_nasa.merge(forecast_df_nasa[['ds', 'yhat']], on='ds', how='left')\n",
    "df_nasa_residual['residual'] = df_nasa_residual['y'] - df_nasa_residual['yhat']\n",
    "df_nasa_residual.head()"
   ]
  },
  {
   "cell_type": "markdown",
   "metadata": {
    "id": "x3kmPVEK-Fxr"
   },
   "source": [
    "### Prepare Dataset for LSTM"
   ]
  },
  {
   "cell_type": "code",
   "execution_count": null,
   "metadata": {
    "id": "9dmBysRI9vaw"
   },
   "outputs": [],
   "source": [
    "scaler = MinMaxScaler(feature_range=(0, 1))\n",
    "scaled_df_nasa = scaler.fit_transform(df_nasa_residual[['residual']])"
   ]
  },
  {
   "cell_type": "code",
   "execution_count": null,
   "metadata": {
    "id": "-2ZPt8VnYSzj"
   },
   "outputs": [],
   "source": [
    "def create_dataset(dataset, look_back):\n",
    "    X, y = [], []\n",
    "    for i in range(len(dataset) - look_back):\n",
    "        a = dataset[i:(i + look_back), 0]\n",
    "        X.append(a)\n",
    "        y.append(dataset[i + look_back, 0])\n",
    "    return np.array(X), np.array(y)"
   ]
  },
  {
   "cell_type": "code",
   "execution_count": null,
   "metadata": {
    "id": "2FOXyvGbYbnZ"
   },
   "outputs": [],
   "source": [
    "look_back = 1\n",
    "X_nasa, y_nasa = create_dataset(scaled_df_nasa, look_back)"
   ]
  },
  {
   "cell_type": "code",
   "execution_count": null,
   "metadata": {
    "id": "WBIxj4ylYjhm"
   },
   "outputs": [],
   "source": [
    "X_train_nasa, X_test_nasa, y_train_nasa, y_test_nasa = train_test_split(X_nasa, y_nasa, test_size=0.3, random_state=42, shuffle=False)\n",
    "\n",
    "X_train_nasa = np.reshape(X_train_nasa, (X_train_nasa.shape[0], X_train_nasa.shape[1], 1))\n",
    "X_test_nasa = np.reshape(X_test_nasa, (X_test_nasa.shape[0], X_test_nasa.shape[1], 1))\n",
    "\n",
    "print(f'NASA DATASET: Train Set: {X_train_nasa.shape} | Test Set: {X_test_nasa.shape}')"
   ]
  },
  {
   "cell_type": "markdown",
   "metadata": {
    "id": "FlcP2AQcmkDs"
   },
   "source": [
    "### Train Model"
   ]
  },
  {
   "cell_type": "code",
   "execution_count": null,
   "metadata": {
    "id": "jSjIfoXrmVwC"
   },
   "outputs": [],
   "source": [
    "model = Sequential()\n",
    "model.add(GRU(50, return_sequences=True, input_shape=(look_back, 1)))\n",
    "model.add(GRU(50, return_sequences=False))\n",
    "model.add(Dense(1))\n",
    "model.compile(optimizer='adam', loss='mean_squared_error')\n",
    "\n",
    "model.fit(X_train_nasa, y_train_nasa, epochs=20, batch_size=16, verbose=1)"
   ]
  },
  {
   "cell_type": "markdown",
   "source": [
    "### Predict Dataset"
   ],
   "metadata": {
    "id": "RIKnvOG4uFkB"
   }
  },
  {
   "cell_type": "code",
   "execution_count": null,
   "metadata": {
    "id": "xaTWYsmEm5Ay"
   },
   "outputs": [],
   "source": [
    "nasa_train_predict = model.predict(X_train_nasa)\n",
    "nasa_train_predict = scaler.inverse_transform(nasa_train_predict)\n",
    "y_train_nasa_org = scaler.inverse_transform([y_train_nasa])\n",
    "\n",
    "start_time = time.time()\n",
    "nasa_test_predict = model.predict(X_test_nasa)\n",
    "end_time = time.time()\n",
    "nasa_test_predict = scaler.inverse_transform(nasa_test_predict)\n",
    "y_test_nasa_org = scaler.inverse_transform([y_test_nasa])\n",
    "\n",
    "print(f'NASA DATASET - Prediction Size Train: {len(nasa_train_predict)} | Prediction Size Test: {len(nasa_test_predict)}')"
   ]
  },
  {
   "cell_type": "code",
   "source": [
    "plt.figure(figsize=(10,6))\n",
    "plt.plot(y_test_nasa_org[0], label='Test', color='red')\n",
    "plt.plot(nasa_test_predict, label='Prediction', color='blue')\n",
    "plt.xlabel('Residual Value')\n",
    "plt.ylabel('X')\n",
    "plt.title('NASA Residual Prediction')\n",
    "plt.legend()\n",
    "plt.show()"
   ],
   "metadata": {
    "id": "pLgh2aYEIePy"
   },
   "execution_count": null,
   "outputs": []
  },
  {
   "cell_type": "code",
   "source": [
    "mse = mean_squared_error(y_test_nasa_org[0], nasa_test_predict)\n",
    "rmse = np.sqrt(mse)\n",
    "mae = mean_absolute_error(y_test_nasa_org[0], nasa_test_predict)\n",
    "r2 = r2_score(y_test_nasa_org[0], nasa_test_predict)\n",
    "\n",
    "print('=== LSTM Residual Analysis Model Metrics ===')\n",
    "print(f'MSE: {mse}')\n",
    "print(f'RMSE: {rmse}')\n",
    "print(f'MAE: {mae}')\n",
    "print(f'R2: {r2}')\n",
    "print(f'Prediction Time: {(end_time - start_time) * 1000}ms')"
   ],
   "metadata": {
    "id": "OJ86c9McKGhO"
   },
   "execution_count": null,
   "outputs": []
  },
  {
   "cell_type": "markdown",
   "source": [
    "## Combine Results from Both Models"
   ],
   "metadata": {
    "id": "U7AA5fQmuQQ6"
   }
  },
  {
   "cell_type": "code",
   "execution_count": null,
   "outputs": [],
   "source": [
    "nasa_combine_predict = np.concatenate((nasa_train_predict, nasa_test_predict))\n",
    "\n",
    "final_df_nasa = df_nasa_residual.copy()\n",
    "\n",
    "final_df_nasa['residual_predict'] = np.nan\n",
    "final_df_nasa['residual_predict'].iloc[0:len(nasa_combine_predict)] = nasa_combine_predict[:, 0]\n",
    "print(f'NASA DATASET: Total Output: {final_df_nasa.shape[0]} | Loss: {final_df_nasa['residual_predict'].isna().sum()}')\n",
    "\n",
    "final_df_nasa['residual_predict'] = final_df_nasa['residual_predict'].fillna(final_df_nasa['residual'])\n",
    "\n",
    "final_df_nasa['y_predicted'] = final_df_nasa['yhat'] + final_df_nasa['residual_predict']\n",
    "\n",
    "final_df_nasa.head()"
   ],
   "metadata": {
    "collapsed": false
   }
  },
  {
   "cell_type": "markdown",
   "source": [
    "### Extract Test Dataset Related Dataframe & Calculate Metrics"
   ],
   "metadata": {
    "collapsed": false
   }
  },
  {
   "cell_type": "code",
   "execution_count": null,
   "outputs": [],
   "source": [
    "final_df_nasa_analysis = final_df_nasa.iloc[train_df_nasa.shape[0]:]\n",
    "final_df_nasa_analysis.tail()\n",
    "\n",
    "print(f'NASA DATASET: Testing Output: {final_df_nasa_analysis.shape}')"
   ],
   "metadata": {
    "collapsed": false
   }
  },
  {
   "cell_type": "code",
   "execution_count": null,
   "outputs": [],
   "source": [
    "mse = mean_squared_error(final_df_nasa_analysis['y'], final_df_nasa_analysis['y_predicted'])\n",
    "rmse = np.sqrt(mse)\n",
    "mae = mean_absolute_error(final_df_nasa_analysis['y'], final_df_nasa_analysis['y_predicted'])\n",
    "r2 = r2_score(final_df_nasa_analysis['y'], final_df_nasa_analysis['y_predicted'])\n",
    "\n",
    "print('=== Hybrid Model Metrics ===')\n",
    "print(f'MSE: {mse}')\n",
    "print(f'RMSE: {rmse}')\n",
    "print(f'MAE: {mae}')\n",
    "print(f'R²: {r2}')"
   ],
   "metadata": {
    "collapsed": false
   }
  },
  {
   "cell_type": "code",
   "execution_count": null,
   "outputs": [],
   "source": [
    "plt.figure(figsize=(14, 5))\n",
    "plt.plot(train_df_nasa['ds'], train_df_nasa['y'], label='Train', color='green')\n",
    "plt.plot(test_df_nasa['ds'], test_df_nasa['y'], label='Test', color='red')\n",
    "plt.plot(final_df_nasa_analysis['ds'], final_df_nasa_analysis['y_predicted'], label='Prediction', color='blue')\n",
    "plt.title('NASA Original and Predicted Datasets')\n",
    "plt.xlabel('Time')\n",
    "plt.ylabel('Count')\n",
    "plt.grid(True)\n",
    "plt.legend()\n",
    "plt.show()"
   ],
   "metadata": {
    "collapsed": false
   }
  }
 ],
 "metadata": {
  "colab": {
   "provenance": []
  },
  "kernelspec": {
   "name": "python3",
   "language": "python",
   "display_name": "Python 3 (ipykernel)"
  },
  "language_info": {
   "name": "python"
  }
 },
 "nbformat": 4,
 "nbformat_minor": 0
}
