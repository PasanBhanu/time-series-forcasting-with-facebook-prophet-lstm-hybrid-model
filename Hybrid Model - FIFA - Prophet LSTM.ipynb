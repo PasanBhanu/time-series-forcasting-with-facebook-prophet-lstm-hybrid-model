{
 "cells": [
  {
   "cell_type": "markdown",
   "metadata": {
    "id": "4WZBQ2XG6xXO"
   },
   "source": [
    "# Requirement Setup"
   ]
  },
  {
   "cell_type": "code",
   "execution_count": null,
   "metadata": {
    "colab": {
     "base_uri": "https://localhost:8080/"
    },
    "id": "hV6cG1vAyUVS",
    "outputId": "d3ba97dd-3fd0-4936-85cc-36acebacda5c",
    "collapsed": true
   },
   "outputs": [],
   "source": [
    "!pip install prophet\n",
    "!pip install scikit-learn\n",
    "!pip install tensorflow\n",
    "!pip install setuptools"
   ]
  },
  {
   "cell_type": "code",
   "execution_count": null,
   "metadata": {
    "id": "RBuh5PBwydD2"
   },
   "outputs": [],
   "source": [
    "import pandas as pd\n",
    "from prophet import Prophet\n",
    "from sklearn.metrics import mean_squared_error, mean_absolute_error, r2_score\n",
    "from sklearn.preprocessing import MinMaxScaler\n",
    "from sklearn.model_selection import train_test_split\n",
    "from tensorflow.keras.models import Sequential\n",
    "from tensorflow.keras.layers import LSTM, Dense\n",
    "import numpy as np\n",
    "import time\n",
    "import matplotlib.pyplot as plt\n",
    "from datetime import datetime\n",
    "from prophet.serialize import model_to_json, model_from_json"
   ]
  },
  {
   "cell_type": "markdown",
   "metadata": {
    "id": "0E2WSqRE61sa"
   },
   "source": [
    "# Data Loading"
   ]
  },
  {
   "cell_type": "code",
   "execution_count": null,
   "metadata": {
    "id": "ePqY_uHw0gTk"
   },
   "outputs": [],
   "source": [
    "df_fifa = pd.read_csv('datasets/fifa.csv')\n",
    "df_fifa.columns = ['ds', 'y']\n",
    "df_fifa['ds'] = pd.to_datetime(df_fifa['ds'])\n",
    "\n",
    "print(f'FIFA DATASET - Dates: {df_fifa[\"ds\"].count()} | Total: {df_fifa[\"y\"].sum()}')\n",
    "df_fifa.head()"
   ]
  },
  {
   "cell_type": "code",
   "execution_count": null,
   "metadata": {
    "id": "C2LftM5v0zzP"
   },
   "outputs": [],
   "source": [
    "plt.figure(figsize=(14, 5))\n",
    "plt.plot(df_fifa['ds'], df_fifa['y'])\n",
    "plt.title('FIFA Original Dataset Distribution')\n",
    "plt.xlabel('Time')\n",
    "plt.ylabel('Count')\n",
    "plt.grid(True)\n",
    "plt.show()"
   ]
  },
  {
   "cell_type": "markdown",
   "metadata": {
    "id": "ciQYvpQq65da"
   },
   "source": [
    "# Data Splitting & Preprocessing\n",
    "\n",
    "1.   Split datasets as 70% training, 30% testing\n",
    "2.   Fill for empty data\n",
    "3.   Drop duplicate data\n",
    "\n",
    "\n",
    "\n"
   ]
  },
  {
   "cell_type": "code",
   "execution_count": null,
   "metadata": {
    "id": "yuvvgpVk07Iw"
   },
   "outputs": [],
   "source": [
    "train_df_fifa, test_df_fifa = train_test_split(df_fifa, test_size=0.3, random_state=42, shuffle=False)\n",
    "\n",
    "print(f'FIFA DATASET: Train Set: {train_df_fifa.shape} | Test Set: {test_df_fifa.shape}')"
   ]
  },
  {
   "cell_type": "code",
   "execution_count": null,
   "metadata": {
    "id": "T9HQOl3C2NTj"
   },
   "outputs": [],
   "source": [
    "train_df_fifa['y'].fillna(method='ffill', inplace=True)\n",
    "train_df_fifa.drop_duplicates(subset='ds', inplace=True)\n",
    "\n",
    "print(f'FIFA DATASET: Train Set: {train_df_fifa.shape} | Test Set: {test_df_fifa.shape}')"
   ]
  },
  {
   "cell_type": "code",
   "execution_count": null,
   "metadata": {
    "id": "g7XQNIGB6SOo"
   },
   "outputs": [],
   "source": [
    "plt.figure(figsize=(14, 5))\n",
    "plt.plot(train_df_fifa['ds'], train_df_fifa['y'], label='Train', color='green')\n",
    "plt.plot(test_df_fifa['ds'], test_df_fifa['y'], label='Test', color='red')\n",
    "plt.title('FIFA Train and Test Datasets')\n",
    "plt.xlabel('Time')\n",
    "plt.ylabel('Count')\n",
    "plt.grid(True)\n",
    "plt.legend()\n",
    "plt.show()"
   ]
  },
  {
   "cell_type": "markdown",
   "metadata": {
    "id": "T1QbNBF96sus"
   },
   "source": [
    "# Model Training"
   ]
  },
  {
   "cell_type": "markdown",
   "metadata": {
    "id": "lZahbTKJ7WG9"
   },
   "source": [
    "## Seasonality Capturing with Prophet"
   ]
  },
  {
   "cell_type": "markdown",
   "metadata": {
    "id": "r1Hbzepj8sei"
   },
   "source": [
    "### Train Model"
   ]
  },
  {
   "cell_type": "code",
   "execution_count": null,
   "metadata": {
    "id": "FgaZeRLG7ZqP"
   },
   "outputs": [],
   "source": [
    "model_one = Prophet(\n",
    "    growth='linear',\n",
    "    changepoint_prior_scale=5.1,\n",
    "    yearly_seasonality=False,\n",
    "    weekly_seasonality=20,\n",
    "    daily_seasonality=50,\n",
    "    seasonality_prior_scale=30\n",
    ")\n",
    "model_one.fit(train_df_fifa)"
   ]
  },
  {
   "cell_type": "markdown",
   "metadata": {
    "id": "ArDt4CbC7cRZ"
   },
   "source": [
    "### Predict Dataset"
   ]
  },
  {
   "cell_type": "code",
   "execution_count": null,
   "metadata": {
    "id": "IvlKYc_f7biz"
   },
   "outputs": [],
   "source": [
    "forecast_train_df_fifa = model_one.predict(train_df_fifa[['ds']].copy())\n",
    "\n",
    "start_time = time.time()\n",
    "forecast_test_df_fifa = model_one.predict(test_df_fifa[['ds']].copy())\n",
    "end_time = time.time()"
   ]
  },
  {
   "cell_type": "code",
   "execution_count": null,
   "metadata": {
    "id": "a8APZi6q8z5q"
   },
   "outputs": [],
   "source": [
    "forecast_test_df_fifa_analysis = test_df_fifa.copy()\n",
    "forecast_test_df_fifa_analysis = forecast_test_df_fifa_analysis.merge(forecast_test_df_fifa[['ds', 'yhat']], on='ds', how='left')\n",
    "\n",
    "mse = mean_squared_error(forecast_test_df_fifa_analysis['y'], forecast_test_df_fifa_analysis['yhat'])\n",
    "rmse = np.sqrt(mse)\n",
    "mae = mean_absolute_error(forecast_test_df_fifa_analysis['y'], forecast_test_df_fifa_analysis['yhat'])\n",
    "r2 = r2_score(forecast_test_df_fifa_analysis['y'], forecast_test_df_fifa_analysis['yhat'])\n",
    "\n",
    "print('=== Facebook Prophet Model Metrics ===')\n",
    "print(f'MSE: {mse}')\n",
    "print(f'RMSE: {rmse}')\n",
    "print(f'MAE: {mae}')\n",
    "print(f'R²: {r2}')\n",
    "print(f'Prediction Time: {(end_time - start_time) * 1000}ms')"
   ]
  },
  {
   "cell_type": "code",
   "execution_count": null,
   "outputs": [],
   "source": [
    "plt.figure(figsize=(14, 5))\n",
    "plt.plot(train_df_fifa['ds'], train_df_fifa['y'], label='Train', color='green')\n",
    "plt.plot(test_df_fifa['ds'], test_df_fifa['y'], label='Test', color='red')\n",
    "plt.plot(forecast_test_df_fifa['ds'], forecast_test_df_fifa['yhat'], label='Prediction', color='blue')\n",
    "plt.title('FIFA Facebook Prophet Predictions')\n",
    "plt.xlabel('Time')\n",
    "plt.ylabel('Count')\n",
    "plt.grid(True)\n",
    "plt.legend()\n",
    "plt.show()"
   ],
   "metadata": {
    "collapsed": false
   }
  },
  {
   "cell_type": "code",
   "execution_count": null,
   "outputs": [],
   "source": [
    "model_one.plot_components(forecast_test_df_fifa);"
   ],
   "metadata": {
    "collapsed": false
   }
  },
  {
   "cell_type": "markdown",
   "source": [
    "## Merge Forecasted Data"
   ],
   "metadata": {
    "id": "TJQmYeuYPFuE"
   }
  },
  {
   "cell_type": "code",
   "source": [
    "forecast_df_fifa = pd.concat([forecast_train_df_fifa, forecast_test_df_fifa])"
   ],
   "metadata": {
    "id": "PPXE_P9_QFRL"
   },
   "execution_count": null,
   "outputs": []
  },
  {
   "cell_type": "markdown",
   "metadata": {
    "id": "gEEsa_GI9NDn"
   },
   "source": [
    "## Residual Analysis"
   ]
  },
  {
   "cell_type": "markdown",
   "metadata": {
    "id": "VIhqGP759acB"
   },
   "source": [
    "### Calculate Residuals"
   ]
  },
  {
   "cell_type": "code",
   "execution_count": null,
   "metadata": {
    "id": "QnpZtWihlSSV"
   },
   "outputs": [],
   "source": [
    "df_fifa_residual = df_fifa.merge(forecast_df_fifa[['ds', 'yhat']], on='ds', how='left')\n",
    "df_fifa_residual['residual'] = df_fifa_residual['y'] - df_fifa_residual['yhat']\n",
    "df_fifa_residual.head()"
   ]
  },
  {
   "cell_type": "markdown",
   "metadata": {
    "id": "x3kmPVEK-Fxr"
   },
   "source": [
    "### Prepare Dataset for LSTM"
   ]
  },
  {
   "cell_type": "code",
   "execution_count": null,
   "metadata": {
    "id": "9dmBysRI9vaw"
   },
   "outputs": [],
   "source": [
    "scaler = MinMaxScaler(feature_range=(0, 1))\n",
    "scaled_df_fifa = scaler.fit_transform(df_fifa_residual[['residual']])"
   ]
  },
  {
   "cell_type": "code",
   "execution_count": null,
   "metadata": {
    "id": "-2ZPt8VnYSzj"
   },
   "outputs": [],
   "source": [
    "def create_dataset(dataset, look_back):\n",
    "    X, y = [], []\n",
    "    for i in range(len(dataset) - look_back):\n",
    "        a = dataset[i:(i + look_back), 0]\n",
    "        X.append(a)\n",
    "        y.append(dataset[i + look_back, 0])\n",
    "    return np.array(X), np.array(y)"
   ]
  },
  {
   "cell_type": "code",
   "execution_count": null,
   "metadata": {
    "id": "2FOXyvGbYbnZ"
   },
   "outputs": [],
   "source": [
    "look_back = 1\n",
    "X_fifa, y_fifa = create_dataset(scaled_df_fifa, look_back)"
   ]
  },
  {
   "cell_type": "code",
   "execution_count": null,
   "metadata": {
    "id": "WBIxj4ylYjhm"
   },
   "outputs": [],
   "source": [
    "X_train_fifa, X_test_fifa, y_train_fifa, y_test_fifa = train_test_split(X_fifa, y_fifa, test_size=0.3, random_state=42, shuffle=False)\n",
    "\n",
    "X_train_fifa = np.reshape(X_train_fifa, (X_train_fifa.shape[0], X_train_fifa.shape[1], 1))\n",
    "X_test_fifa = np.reshape(X_test_fifa, (X_test_fifa.shape[0], X_test_fifa.shape[1], 1))\n",
    "\n",
    "print(f'FIFA DATASET: Train Set: {X_train_fifa.shape} | Test Set: {X_test_fifa.shape}')"
   ]
  },
  {
   "cell_type": "markdown",
   "metadata": {
    "id": "FlcP2AQcmkDs"
   },
   "source": [
    "### Train Model"
   ]
  },
  {
   "cell_type": "code",
   "execution_count": null,
   "metadata": {
    "id": "jSjIfoXrmVwC"
   },
   "outputs": [],
   "source": [
    "model_two = Sequential()\n",
    "model_two.add(LSTM(50, return_sequences=True, input_shape=(look_back, 1)))\n",
    "model_two.add(LSTM(50, return_sequences=False))\n",
    "model_two.add(Dense(1))\n",
    "model_two.compile(optimizer='adam', loss='mean_squared_error')\n",
    "\n",
    "model_two.fit(X_train_fifa, y_train_fifa, epochs=20, batch_size=16, verbose=1)"
   ]
  },
  {
   "cell_type": "markdown",
   "source": [
    "### Predict Dataset"
   ],
   "metadata": {
    "id": "RIKnvOG4uFkB"
   }
  },
  {
   "cell_type": "code",
   "execution_count": null,
   "metadata": {
    "id": "xaTWYsmEm5Ay"
   },
   "outputs": [],
   "source": [
    "fifa_train_predict = model_two.predict(X_train_fifa)\n",
    "fifa_train_predict = scaler.inverse_transform(fifa_train_predict)\n",
    "y_train_fifa_org = scaler.inverse_transform([y_train_fifa])\n",
    "\n",
    "start_time = time.time()\n",
    "fifa_test_predict = model_two.predict(X_test_fifa)\n",
    "end_time = time.time()\n",
    "fifa_test_predict = scaler.inverse_transform(fifa_test_predict)\n",
    "y_test_fifa_org = scaler.inverse_transform([y_test_fifa])\n",
    "\n",
    "print(f'FIFA DATASET - Prediction Size Train: {len(fifa_train_predict)} | Prediction Size Test: {len(fifa_test_predict)}')"
   ]
  },
  {
   "cell_type": "code",
   "source": [
    "plt.figure(figsize=(10,6))\n",
    "plt.plot(y_test_fifa_org[0], label='Test', color='red')\n",
    "plt.plot(fifa_test_predict, label='Prediction', color='blue')\n",
    "plt.xlabel('Residual Value')\n",
    "plt.ylabel('X')\n",
    "plt.title('FIFA Residual Prediction')\n",
    "plt.legend()\n",
    "plt.show()"
   ],
   "metadata": {
    "id": "pLgh2aYEIePy"
   },
   "execution_count": null,
   "outputs": []
  },
  {
   "cell_type": "code",
   "source": [
    "mse = mean_squared_error(y_test_fifa_org[0], fifa_test_predict)\n",
    "rmse = np.sqrt(mse)\n",
    "mae = mean_absolute_error(y_test_fifa_org[0], fifa_test_predict)\n",
    "r2 = r2_score(y_test_fifa_org[0], fifa_test_predict)\n",
    "\n",
    "print('=== LSTM Residual Analysis Model Metrics ===')\n",
    "print(f'MSE: {mse}')\n",
    "print(f'RMSE: {rmse}')\n",
    "print(f'MAE: {mae}')\n",
    "print(f'R2: {r2}')\n",
    "print(f'Prediction Time: {(end_time - start_time) * 1000}ms')"
   ],
   "metadata": {
    "id": "OJ86c9McKGhO"
   },
   "execution_count": null,
   "outputs": []
  },
  {
   "cell_type": "markdown",
   "source": [
    "## Combine Results from Both Models"
   ],
   "metadata": {
    "id": "U7AA5fQmuQQ6"
   }
  },
  {
   "cell_type": "code",
   "execution_count": null,
   "outputs": [],
   "source": [
    "fifa_combine_predict = np.concatenate((fifa_train_predict, fifa_test_predict))\n",
    "\n",
    "final_df_fifa = df_fifa_residual.copy()\n",
    "\n",
    "final_df_fifa['residual_predict'] = np.nan\n",
    "final_df_fifa['residual_predict'].iloc[0:len(fifa_combine_predict)] = fifa_combine_predict[:, 0]\n",
    "print(f'FIFA DATASET: Total Output: {final_df_fifa.shape[0]} | Loss: {final_df_fifa['residual_predict'].isna().sum()}')\n",
    "\n",
    "final_df_fifa['residual_predict'] = final_df_fifa['residual_predict'].fillna(final_df_fifa['residual'])\n",
    "\n",
    "final_df_fifa['y_predicted'] = final_df_fifa['yhat'] + final_df_fifa['residual_predict']\n",
    "\n",
    "final_df_fifa.head()"
   ],
   "metadata": {
    "collapsed": false
   }
  },
  {
   "cell_type": "markdown",
   "source": [
    "### Extract Test Dataset Related Dataframe & Calculate Metrics"
   ],
   "metadata": {
    "collapsed": false
   }
  },
  {
   "cell_type": "code",
   "execution_count": null,
   "outputs": [],
   "source": [
    "final_df_fifa_analysis = final_df_fifa.iloc[train_df_fifa.shape[0]:]\n",
    "final_df_fifa_analysis.tail()\n",
    "\n",
    "print(f'FIFA DATASET: Testing Output: {final_df_fifa_analysis.shape}')"
   ],
   "metadata": {
    "collapsed": false
   }
  },
  {
   "cell_type": "code",
   "execution_count": null,
   "outputs": [],
   "source": [
    "mse = mean_squared_error(final_df_fifa_analysis['y'], final_df_fifa_analysis['y_predicted'])\n",
    "rmse = np.sqrt(mse)\n",
    "mae = mean_absolute_error(final_df_fifa_analysis['y'], final_df_fifa_analysis['y_predicted'])\n",
    "r2 = r2_score(final_df_fifa_analysis['y'], final_df_fifa_analysis['y_predicted'])\n",
    "\n",
    "print('=== Hybrid Model Metrics ===')\n",
    "print(f'MSE: {mse}')\n",
    "print(f'RMSE: {rmse}')\n",
    "print(f'MAE: {mae}')\n",
    "print(f'R²: {r2}')"
   ],
   "metadata": {
    "collapsed": false
   }
  },
  {
   "cell_type": "code",
   "execution_count": null,
   "outputs": [],
   "source": [
    "plt.figure(figsize=(14, 5))\n",
    "plt.plot(train_df_fifa['ds'], train_df_fifa['y'], label='Train', color='green')\n",
    "plt.plot(test_df_fifa['ds'], test_df_fifa['y'], label='Test', color='red')\n",
    "plt.plot(final_df_fifa_analysis['ds'], final_df_fifa_analysis['y_predicted'], label='Prediction', color='blue')\n",
    "plt.title('FIFA Original and Predicted Datasets')\n",
    "plt.xlabel('Time')\n",
    "plt.ylabel('Count')\n",
    "plt.grid(True)\n",
    "plt.legend()\n",
    "plt.show()"
   ],
   "metadata": {
    "collapsed": false
   }
  },
  {
   "cell_type": "markdown",
   "source": [
    "## Save Models"
   ],
   "metadata": {
    "collapsed": false
   }
  },
  {
   "cell_type": "code",
   "execution_count": null,
   "outputs": [],
   "source": [
    "timestamp = datetime.now().strftime(\"%Y%m%d_%H%M%S\")\n",
    "\n",
    "filename = f'models/fbprophet-fifa-{timestamp}.json'\n",
    "with open(filename, 'w') as fout:\n",
    "    fout.write(model_to_json(model_one))\n",
    "\n",
    "filename = f'models/lstm-fifa-{timestamp}.keras' \n",
    "model_two.save(filename)"
   ],
   "metadata": {
    "collapsed": false
   }
  }
 ],
 "metadata": {
  "colab": {
   "provenance": []
  },
  "kernelspec": {
   "name": "python3",
   "language": "python",
   "display_name": "Python 3 (ipykernel)"
  },
  "language_info": {
   "name": "python"
  }
 },
 "nbformat": 4,
 "nbformat_minor": 0
}
