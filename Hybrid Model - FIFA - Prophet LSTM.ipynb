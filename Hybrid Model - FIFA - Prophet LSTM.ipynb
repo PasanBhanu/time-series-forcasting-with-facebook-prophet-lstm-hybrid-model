{
 "cells": [
  {
   "cell_type": "markdown",
   "metadata": {
    "id": "4WZBQ2XG6xXO"
   },
   "source": [
    "# Requirement Setup"
   ]
  },
  {
   "cell_type": "code",
   "execution_count": null,
   "metadata": {
    "colab": {
     "base_uri": "https://localhost:8080/"
    },
    "id": "hV6cG1vAyUVS",
    "outputId": "d3ba97dd-3fd0-4936-85cc-36acebacda5c",
    "collapsed": true
   },
   "outputs": [],
   "source": [
    "!pip install prophet\n",
    "!pip install scikit-learn\n",
    "!pip install tensorflow\n",
    "!pip install setuptools"
   ]
  },
  {
   "cell_type": "code",
   "execution_count": null,
   "metadata": {
    "id": "RBuh5PBwydD2"
   },
   "outputs": [],
   "source": [
    "import pandas as pd\n",
    "from prophet import Prophet\n",
    "from sklearn.metrics import mean_squared_error, mean_absolute_error, r2_score\n",
    "from sklearn.preprocessing import MinMaxScaler\n",
    "from sklearn.model_selection import train_test_split\n",
    "import tensorflow as tf\n",
    "from tensorflow.keras.models import Sequential\n",
    "from tensorflow.keras.layers import LSTM, Dense\n",
    "from tensorflow.keras.callbacks import EarlyStopping\n",
    "import keras_tuner as kt\n",
    "import numpy as np\n",
    "import time\n",
    "import matplotlib.pyplot as plt\n",
    "from datetime import datetime\n",
    "from prophet.serialize import model_to_json, model_from_json"
   ]
  },
  {
   "cell_type": "markdown",
   "source": [
    "Enable / Disable Hyperparameter Tuning"
   ],
   "metadata": {
    "collapsed": false
   }
  },
  {
   "cell_type": "code",
   "execution_count": null,
   "outputs": [],
   "source": [
    "HYPERPARAMETER_TUNING = False"
   ],
   "metadata": {
    "collapsed": false
   }
  },
  {
   "cell_type": "code",
   "execution_count": null,
   "outputs": [],
   "source": [
    "np.random.seed(42)\n",
    "tf.random.set_seed(42)"
   ],
   "metadata": {
    "collapsed": false
   }
  },
  {
   "cell_type": "markdown",
   "metadata": {
    "id": "0E2WSqRE61sa"
   },
   "source": [
    "# Data Loading"
   ]
  },
  {
   "cell_type": "code",
   "execution_count": null,
   "metadata": {
    "id": "ePqY_uHw0gTk"
   },
   "outputs": [],
   "source": [
    "df_fifa = pd.read_csv('datasets/fifa.csv')\n",
    "df_fifa.columns = ['ds', 'y_us']\n",
    "df_fifa['ds'] = pd.to_datetime(df_fifa['ds'])\n",
    "\n",
    "print(f'FIFA DATASET - Dates: {df_fifa[\"ds\"].count()} | Total: {df_fifa[\"y_us\"].sum()}')\n",
    "df_fifa.head()"
   ]
  },
  {
   "cell_type": "code",
   "execution_count": null,
   "metadata": {
    "id": "C2LftM5v0zzP"
   },
   "outputs": [],
   "source": [
    "plt.figure(figsize=(14, 5))\n",
    "plt.plot(df_fifa['ds'], df_fifa['y_us'])\n",
    "plt.title('World Cup 98 Original Dataset Distribution')\n",
    "plt.xlabel('Time')\n",
    "plt.ylabel('Requests per Min')\n",
    "plt.grid(True)\n",
    "plt.savefig(\"images/fifa-original.jpeg\", dpi=300, bbox_inches='tight', pad_inches=0)\n",
    "plt.show()"
   ]
  },
  {
   "cell_type": "markdown",
   "metadata": {
    "id": "ciQYvpQq65da"
   },
   "source": [
    "# Data Splitting & Preprocessing\n",
    "\n",
    "1. Scaling to 0-1  \n",
    "2. Split datasets as 70% training, 30% testing\n",
    "3. Fill for empty data\n",
    "4. Drop duplicate data"
   ]
  },
  {
   "cell_type": "code",
   "execution_count": null,
   "outputs": [],
   "source": [
    "scaler = MinMaxScaler(feature_range=(0, 1))\n",
    "df_fifa['y'] = scaler.fit_transform(df_fifa[['y_us']])"
   ],
   "metadata": {
    "collapsed": false
   }
  },
  {
   "cell_type": "code",
   "execution_count": null,
   "metadata": {
    "id": "yuvvgpVk07Iw"
   },
   "outputs": [],
   "source": [
    "train_df_fifa, test_df_fifa = train_test_split(df_fifa, test_size=0.3, random_state=42, shuffle=False)\n",
    "\n",
    "print(f'FIFA DATASET: Train Set: {train_df_fifa.shape} | Test Set: {test_df_fifa.shape}')"
   ]
  },
  {
   "cell_type": "code",
   "execution_count": null,
   "metadata": {
    "id": "T9HQOl3C2NTj"
   },
   "outputs": [],
   "source": [
    "train_df_fifa['y'].fillna(method='ffill', inplace=True)\n",
    "train_df_fifa.drop_duplicates(subset='ds', inplace=True)\n",
    "\n",
    "print(f'FIFA DATASET: Train Set: {train_df_fifa.shape} | Test Set: {test_df_fifa.shape}')"
   ]
  },
  {
   "cell_type": "code",
   "execution_count": null,
   "metadata": {
    "id": "g7XQNIGB6SOo"
   },
   "outputs": [],
   "source": [
    "plt.figure(figsize=(14, 5))\n",
    "plt.plot(train_df_fifa['ds'], train_df_fifa['y'], label='Train', color='green')\n",
    "plt.plot(test_df_fifa['ds'], test_df_fifa['y'], label='Test', color='red')\n",
    "plt.title('World Cup 98 Train and Test Datasets')\n",
    "plt.xlabel('Time')\n",
    "plt.ylabel('Workload')\n",
    "plt.grid(True)\n",
    "plt.legend()\n",
    "plt.savefig(\"images/fifa-train-test.jpeg\", dpi=300, bbox_inches='tight', pad_inches=0)\n",
    "plt.show()"
   ]
  },
  {
   "cell_type": "markdown",
   "metadata": {
    "id": "T1QbNBF96sus"
   },
   "source": [
    "# Model Training"
   ]
  },
  {
   "cell_type": "markdown",
   "metadata": {
    "id": "lZahbTKJ7WG9"
   },
   "source": [
    "## Seasonality Capturing with Prophet"
   ]
  },
  {
   "cell_type": "markdown",
   "metadata": {
    "id": "r1Hbzepj8sei"
   },
   "source": [
    "### Train Model"
   ]
  },
  {
   "cell_type": "code",
   "execution_count": null,
   "metadata": {
    "id": "FgaZeRLG7ZqP"
   },
   "outputs": [],
   "source": [
    "model_one = Prophet(\n",
    "    growth='linear',\n",
    "    changepoint_prior_scale=5.1,\n",
    "    yearly_seasonality=False,\n",
    "    weekly_seasonality=20,\n",
    "    daily_seasonality=50,\n",
    "    seasonality_prior_scale=30\n",
    ")\n",
    "model_one.fit(train_df_fifa)"
   ]
  },
  {
   "cell_type": "markdown",
   "metadata": {
    "id": "ArDt4CbC7cRZ"
   },
   "source": [
    "### Predict Dataset"
   ]
  },
  {
   "cell_type": "code",
   "execution_count": null,
   "metadata": {
    "id": "IvlKYc_f7biz"
   },
   "outputs": [],
   "source": [
    "forecast_train_df_fifa = model_one.predict(train_df_fifa[['ds']].copy())\n",
    "\n",
    "start_time = time.time()\n",
    "forecast_test_df_fifa = model_one.predict(test_df_fifa[['ds']].copy())\n",
    "end_time = time.time()"
   ]
  },
  {
   "cell_type": "code",
   "execution_count": null,
   "outputs": [],
   "source": [
    "forecast_test_df_fifa_analysis = test_df_fifa.copy()\n",
    "forecast_test_df_fifa_analysis = forecast_test_df_fifa_analysis.merge(forecast_test_df_fifa[['ds', 'yhat']], on='ds', how='left')\n",
    "\n",
    "mse = mean_squared_error(forecast_test_df_fifa_analysis['y'], forecast_test_df_fifa_analysis['yhat'])\n",
    "rmse = np.sqrt(mse)\n",
    "mae = mean_absolute_error(forecast_test_df_fifa_analysis['y'], forecast_test_df_fifa_analysis['yhat'])\n",
    "r2 = r2_score(forecast_test_df_fifa_analysis['y'], forecast_test_df_fifa_analysis['yhat'])\n",
    "model_one_time = (end_time - start_time) * 1000\n",
    "\n",
    "print('=== Facebook Prophet Model Metrics ===')\n",
    "print(f'MSE: {mse}')\n",
    "print(f'RMSE: {rmse}')\n",
    "print(f'MAE: {mae}')\n",
    "print(f'R²: {r2}')\n",
    "print(f'Prediction Time: {model_one_time}ms')"
   ],
   "metadata": {
    "collapsed": false
   }
  },
  {
   "cell_type": "code",
   "execution_count": null,
   "outputs": [],
   "source": [
    "plt.figure(figsize=(14, 5))\n",
    "# plt.plot(train_df_fifa['ds'], train_df_fifa['y'], label='Train', color='green')\n",
    "plt.plot(test_df_fifa['ds'], test_df_fifa['y'], label='Actual', color='#1f77b4')\n",
    "plt.plot(forecast_test_df_fifa['ds'], forecast_test_df_fifa['yhat'], label='Prediction', color='red')\n",
    "plt.title('World Cup 98 Facebook Prophet Predictions')\n",
    "plt.xlim(pd.to_datetime('1998-07-01'), pd.to_datetime('1998-07-31'))\n",
    "plt.xlabel('Time')\n",
    "plt.ylabel('Count')\n",
    "plt.grid(True)\n",
    "plt.legend()\n",
    "plt.savefig(\"images/fifa-prophet-output.jpeg\", dpi=300, bbox_inches='tight', pad_inches=0)\n",
    "plt.show()"
   ],
   "metadata": {
    "collapsed": false
   }
  },
  {
   "cell_type": "code",
   "execution_count": null,
   "outputs": [],
   "source": [
    "components_fig = model_one.plot_components(forecast_test_df_fifa);\n",
    "ax_weekly = components_fig.get_axes()[1]\n",
    "ax_daily = components_fig.get_axes()[2]\n",
    "\n",
    "plt.figure(figsize=(14, 5))\n",
    "plt.plot(ax_weekly.lines[0].get_xdata(), ax_weekly.lines[0].get_ydata())\n",
    "plt.title('World Cup 98 Seasonality Weekly Component')\n",
    "plt.xlabel(ax_weekly.get_xlabel())\n",
    "plt.ylabel(ax_weekly.get_ylabel())\n",
    "plt.grid(True)\n",
    "plt.savefig(\"images/fifa-prophet-weekly.jpeg\", dpi=300, bbox_inches='tight', pad_inches=0)\n",
    "plt.close()\n",
    "\n",
    "plt.figure(figsize=(14, 5))\n",
    "plt.plot(ax_daily.lines[0].get_xdata(), ax_daily.lines[0].get_ydata())\n",
    "plt.title('World Cup 98 Seasonality Daily Component')\n",
    "plt.xlabel(ax_daily.get_xlabel())\n",
    "plt.ylabel(ax_daily.get_ylabel())\n",
    "plt.grid(True)\n",
    "plt.savefig(\"images/fifa-prophet-daily.jpeg\", dpi=300, bbox_inches='tight', pad_inches=0)\n",
    "plt.close()"
   ],
   "metadata": {
    "collapsed": false
   }
  },
  {
   "cell_type": "markdown",
   "source": [
    "## Merge Forecasted Data"
   ],
   "metadata": {
    "collapsed": false
   }
  },
  {
   "cell_type": "code",
   "execution_count": null,
   "outputs": [],
   "source": [
    "forecast_df_fifa = pd.concat([forecast_train_df_fifa, forecast_test_df_fifa])"
   ],
   "metadata": {
    "collapsed": false
   }
  },
  {
   "cell_type": "markdown",
   "source": [
    "## Residual Analysis"
   ],
   "metadata": {
    "collapsed": false
   }
  },
  {
   "cell_type": "markdown",
   "source": [
    "### Calculate Residuals"
   ],
   "metadata": {
    "collapsed": false
   }
  },
  {
   "cell_type": "code",
   "execution_count": null,
   "outputs": [],
   "source": [
    "df_fifa_residual = df_fifa.merge(forecast_df_fifa[['ds', 'yhat']], on='ds', how='left')\n",
    "df_fifa_residual['residual'] = df_fifa_residual['y'] - df_fifa_residual['yhat']\n",
    "df_fifa_residual.head()"
   ],
   "metadata": {
    "collapsed": false
   }
  },
  {
   "cell_type": "markdown",
   "metadata": {
    "id": "x3kmPVEK-Fxr"
   },
   "source": [
    "### Prepare Dataset for LSTM"
   ]
  },
  {
   "cell_type": "code",
   "execution_count": null,
   "metadata": {
    "id": "-2ZPt8VnYSzj"
   },
   "outputs": [],
   "source": [
    "def create_dataset(dataset, look_back):\n",
    "    X, y = [], []\n",
    "    dataset = np.array(dataset)\n",
    "    \n",
    "    for i in range(len(dataset) - look_back):\n",
    "        a = dataset[i:(i + look_back), 0]\n",
    "        X.append(a)\n",
    "        y.append(dataset[i + look_back, 0])\n",
    "    return np.array(X), np.array(y)"
   ]
  },
  {
   "cell_type": "code",
   "execution_count": null,
   "metadata": {
    "id": "2FOXyvGbYbnZ"
   },
   "outputs": [],
   "source": [
    "look_back = 1\n",
    "X_fifa, y_fifa = create_dataset(df_fifa_residual[['residual']], look_back)"
   ]
  },
  {
   "cell_type": "code",
   "execution_count": null,
   "metadata": {
    "id": "WBIxj4ylYjhm"
   },
   "outputs": [],
   "source": [
    "X_train_fifa, X_test_fifa, y_train_fifa, y_test_fifa = train_test_split(X_fifa, y_fifa, test_size=0.3, random_state=42, shuffle=False)\n",
    "\n",
    "X_train_fifa = np.reshape(X_train_fifa, (X_train_fifa.shape[0], X_train_fifa.shape[1], 1))\n",
    "X_test_fifa = np.reshape(X_test_fifa, (X_test_fifa.shape[0], X_test_fifa.shape[1], 1))\n",
    "\n",
    "print(f'FIFA DATASET: Train Set: {X_train_fifa.shape} | Test Set: {X_test_fifa.shape}')"
   ]
  },
  {
   "cell_type": "markdown",
   "metadata": {
    "id": "FlcP2AQcmkDs"
   },
   "source": [
    "### Model Definition"
   ]
  },
  {
   "cell_type": "code",
   "execution_count": null,
   "outputs": [],
   "source": [
    "model_two = None"
   ],
   "metadata": {
    "collapsed": false
   }
  },
  {
   "cell_type": "markdown",
   "source": [
    "#### Early Stopping"
   ],
   "metadata": {
    "collapsed": false
   }
  },
  {
   "cell_type": "code",
   "execution_count": null,
   "outputs": [],
   "source": [
    "early_stopping = EarlyStopping(monitor='val_loss', patience=5, restore_best_weights=True)"
   ],
   "metadata": {
    "collapsed": false
   }
  },
  {
   "cell_type": "markdown",
   "source": [
    "#### HyperParameter Tuning (If Enabled)"
   ],
   "metadata": {
    "collapsed": false
   }
  },
  {
   "cell_type": "code",
   "execution_count": null,
   "metadata": {
    "id": "jSjIfoXrmVwC"
   },
   "outputs": [],
   "source": [
    "def build_model(hp):\n",
    "    model = Sequential()\n",
    "    model.add(LSTM(units=hp.Int('units', min_value=32, max_value=512, step=32), return_sequences=True, input_shape=(look_back, 1)))\n",
    "    model.add(LSTM(units=hp.Int('units', min_value=32, max_value=512, step=32), return_sequences=False))\n",
    "    model.add(Dense(1))\n",
    "    \n",
    "    model.compile(optimizer=hp.Choice('optimizer', values=['adam', 'rmsprop']), loss='mean_squared_error')\n",
    "    return model"
   ]
  },
  {
   "cell_type": "code",
   "execution_count": null,
   "outputs": [],
   "source": [
    "tuner = kt.RandomSearch(\n",
    "    build_model,\n",
    "    objective='val_loss',\n",
    "    max_trials=10,\n",
    "    executions_per_trial=2,\n",
    "    directory='hyperparam_tuning',\n",
    "    project_name='lstm_hyperparam_tuning'\n",
    ")"
   ],
   "metadata": {
    "collapsed": false
   }
  },
  {
   "cell_type": "code",
   "execution_count": null,
   "outputs": [],
   "source": [
    "if HYPERPARAMETER_TUNING:\n",
    "    tuner.search(X_train_fifa, y_train_fifa, epochs=50, batch_size=16, validation_split=0.2, callbacks=[early_stopping], verbose=1)"
   ],
   "metadata": {
    "collapsed": false
   }
  },
  {
   "cell_type": "code",
   "execution_count": null,
   "outputs": [],
   "source": [
    "if HYPERPARAMETER_TUNING:\n",
    "    model_two = tuner.get_best_models(num_models=1)[0]\n",
    "    model_two_hyperparameters = tuner.get_best_hyperparameters(num_trials=1)[0]\n",
    "    print(f\"Units: {model_two_hyperparameters.get('units')}\")\n",
    "    print(f\"Optimizer: {model_two_hyperparameters.get('optimizer')}\")"
   ],
   "metadata": {
    "collapsed": false
   }
  },
  {
   "cell_type": "markdown",
   "source": [
    "#### Default Model"
   ],
   "metadata": {
    "collapsed": false
   }
  },
  {
   "cell_type": "code",
   "execution_count": null,
   "outputs": [],
   "source": [
    "if not HYPERPARAMETER_TUNING:\n",
    "    model_two = Sequential()\n",
    "    model_two.add(LSTM(50, return_sequences=True, input_shape=(look_back, 1)))\n",
    "    model_two.add(LSTM(50, return_sequences=False))\n",
    "    model_two.add(Dense(1))\n",
    "    model_two.compile(optimizer='adam', loss='mean_squared_error')"
   ],
   "metadata": {
    "collapsed": false
   }
  },
  {
   "cell_type": "markdown",
   "source": [
    "Print Model Summery"
   ],
   "metadata": {
    "collapsed": false
   }
  },
  {
   "cell_type": "code",
   "execution_count": null,
   "outputs": [],
   "source": [
    "model_two.summary()"
   ],
   "metadata": {
    "collapsed": false
   }
  },
  {
   "cell_type": "markdown",
   "source": [
    "### Train Model"
   ],
   "metadata": {
    "collapsed": false
   }
  },
  {
   "cell_type": "code",
   "execution_count": null,
   "outputs": [],
   "source": [
    "model_two.fit(X_train_fifa, y_train_fifa, epochs=20, batch_size=16, validation_split=0.2, callbacks=[early_stopping], verbose=1)"
   ],
   "metadata": {
    "collapsed": false
   }
  },
  {
   "cell_type": "markdown",
   "source": [
    "### Predict Dataset"
   ],
   "metadata": {
    "id": "RIKnvOG4uFkB"
   }
  },
  {
   "cell_type": "code",
   "execution_count": null,
   "metadata": {
    "id": "xaTWYsmEm5Ay"
   },
   "outputs": [],
   "source": [
    "fifa_train_predict = model_two.predict(X_train_fifa)\n",
    "\n",
    "start_time = time.time()\n",
    "fifa_test_predict = model_two.predict(X_test_fifa)\n",
    "end_time = time.time()\n",
    "\n",
    "print(f'FIFA DATASET - Prediction Size Train: {len(fifa_train_predict)} | Prediction Size Test: {len(fifa_test_predict)}')"
   ]
  },
  {
   "cell_type": "code",
   "source": [
    "plt.figure(figsize=(10,6))\n",
    "plt.plot(y_test_fifa, label='Actual', color='#1f77b4')\n",
    "plt.plot(fifa_test_predict, label='Prediction', color='red')\n",
    "plt.xlabel('Residual Value')\n",
    "plt.ylabel('X')\n",
    "plt.title('World Cup 98 Residual Prediction')\n",
    "plt.legend()\n",
    "plt.savefig(\"images/fifa-lstm-output.jpeg\", dpi=300, bbox_inches='tight', pad_inches=0)\n",
    "plt.show()"
   ],
   "metadata": {
    "id": "pLgh2aYEIePy"
   },
   "execution_count": null,
   "outputs": []
  },
  {
   "cell_type": "code",
   "source": [
    "mse = mean_squared_error(y_test_fifa, fifa_test_predict)\n",
    "rmse = np.sqrt(mse)\n",
    "mae = mean_absolute_error(y_test_fifa, fifa_test_predict)\n",
    "r2 = r2_score(y_test_fifa, fifa_test_predict)\n",
    "model_two_time = (end_time - start_time) * 1000\n",
    "\n",
    "print('=== LSTM Residual Analysis Model Metrics ===')\n",
    "print(f'MSE: {mse}')\n",
    "print(f'RMSE: {rmse}')\n",
    "print(f'MAE: {mae}')\n",
    "print(f'R2: {r2}')\n",
    "print(f'Prediction Time: {model_two_time}ms')"
   ],
   "metadata": {
    "id": "OJ86c9McKGhO"
   },
   "execution_count": null,
   "outputs": []
  },
  {
   "cell_type": "markdown",
   "source": [
    "## Combine Results from Both Models"
   ],
   "metadata": {
    "id": "U7AA5fQmuQQ6"
   }
  },
  {
   "cell_type": "code",
   "execution_count": null,
   "outputs": [],
   "source": [
    "fifa_combine_predict = np.concatenate((fifa_train_predict, fifa_test_predict))\n",
    "\n",
    "final_df_fifa = df_fifa_residual.copy()\n",
    "\n",
    "final_df_fifa['residual_predict'] = np.nan\n",
    "final_df_fifa['residual_predict'].iloc[0:len(fifa_combine_predict)] = fifa_combine_predict[:, 0]\n",
    "print(f'FIFA DATASET: Total Output: {final_df_fifa.shape[0]} | Loss: {final_df_fifa['residual_predict'].isna().sum()}')\n",
    "\n",
    "final_df_fifa['residual_predict'] = final_df_fifa['residual_predict'].fillna(final_df_fifa['residual'])\n",
    "\n",
    "final_df_fifa['y_predicted'] = final_df_fifa['yhat'] + final_df_fifa['residual_predict']\n",
    "\n",
    "final_df_fifa.head()"
   ],
   "metadata": {
    "collapsed": false
   }
  },
  {
   "cell_type": "markdown",
   "source": [
    "### Extract Test Dataset Related Dataframe & Calculate Metrics"
   ],
   "metadata": {
    "collapsed": false
   }
  },
  {
   "cell_type": "code",
   "execution_count": null,
   "outputs": [],
   "source": [
    "final_df_fifa_analysis = final_df_fifa.iloc[train_df_fifa.shape[0]:]\n",
    "final_df_fifa_analysis.tail()\n",
    "\n",
    "print(f'FIFA DATASET: Testing Output: {final_df_fifa_analysis.shape}')"
   ],
   "metadata": {
    "collapsed": false
   }
  },
  {
   "cell_type": "code",
   "execution_count": null,
   "outputs": [],
   "source": [
    "mse = mean_squared_error(final_df_fifa_analysis['y'], final_df_fifa_analysis['y_predicted'])\n",
    "rmse = np.sqrt(mse)\n",
    "mae = mean_absolute_error(final_df_fifa_analysis['y'], final_df_fifa_analysis['y_predicted'])\n",
    "r2 = r2_score(final_df_fifa_analysis['y'], final_df_fifa_analysis['y_predicted'])\n",
    "\n",
    "print('=== Hybrid Model Metrics ===')\n",
    "print(f'MSE: {mse:.6f}')\n",
    "print(f'RMSE: {rmse:.6f}')\n",
    "print(f'MAE: {mae:.6f}')\n",
    "print(f'R²: {r2:.6f}')\n",
    "print(f'Prediction Time: {model_one_time + model_two_time}ms')"
   ],
   "metadata": {
    "collapsed": false
   }
  },
  {
   "cell_type": "code",
   "execution_count": null,
   "outputs": [],
   "source": [
    "plt.figure(figsize=(14, 5))\n",
    "# plt.plot(train_df_fifa['ds'], train_df_fifa['y'], label='Train', color='green')\n",
    "plt.plot(test_df_fifa['ds'], test_df_fifa['y'], label='Actual', color='#1f77b4')\n",
    "plt.plot(final_df_fifa_analysis['ds'], final_df_fifa_analysis['y_predicted'], label='Prediction', color='red')\n",
    "plt.xlim(pd.to_datetime('1998-07-02'), pd.to_datetime('1998-07-31'))\n",
    "plt.title('World Cup 98 Original and Predicted Datasets')\n",
    "plt.xlabel('Time')\n",
    "plt.ylabel('Workload')\n",
    "plt.grid(True)\n",
    "plt.legend()\n",
    "plt.savefig(\"images/fifa-final-output.jpeg\", dpi=300, bbox_inches='tight', pad_inches=0)\n",
    "plt.show()"
   ],
   "metadata": {
    "collapsed": false
   }
  },
  {
   "cell_type": "markdown",
   "source": [
    "## Save Models"
   ],
   "metadata": {
    "collapsed": false
   }
  },
  {
   "cell_type": "code",
   "execution_count": null,
   "outputs": [],
   "source": [
    "timestamp = datetime.now().strftime(\"%Y%m%d_%H%M%S\")\n",
    "\n",
    "filename = f'models/fbprophet-fifa-{timestamp}.json'\n",
    "with open(filename, 'w') as fout:\n",
    "    fout.write(model_to_json(model_one))\n",
    "\n",
    "filename = f'models/lstm-fifa-{timestamp}.keras' \n",
    "model_two.save(filename)"
   ],
   "metadata": {
    "collapsed": false
   }
  }
 ],
 "metadata": {
  "colab": {
   "provenance": []
  },
  "kernelspec": {
   "name": "python3",
   "language": "python",
   "display_name": "Python 3 (ipykernel)"
  },
  "language_info": {
   "name": "python"
  }
 },
 "nbformat": 4,
 "nbformat_minor": 0
}
